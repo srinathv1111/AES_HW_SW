{
 "cells": [
  {
   "cell_type": "code",
   "execution_count": null,
   "id": "0f18fc03",
   "metadata": {},
   "outputs": [
    {
     "data": {
      "application/javascript": "\ntry {\nrequire(['notebook/js/codecell'], function(codecell) {\n  codecell.CodeCell.options_default.highlight_modes[\n      'magic_text/x-csrc'] = {'reg':[/^%%microblaze/]};\n  Jupyter.notebook.events.one('kernel_ready.Kernel', function(){\n      Jupyter.notebook.get_cells().map(function(cell){\n          if (cell.cell_type == 'code'){ cell.auto_highlight(); } }) ;\n  });\n});\n} catch (e) {};\n"
     },
     "metadata": {},
     "output_type": "display_data"
    },
    {
     "data": {
      "application/javascript": "\ntry {\nrequire(['notebook/js/codecell'], function(codecell) {\n  codecell.CodeCell.options_default.highlight_modes[\n      'magic_text/x-csrc'] = {'reg':[/^%%pybind11/]};\n  Jupyter.notebook.events.one('kernel_ready.Kernel', function(){\n      Jupyter.notebook.get_cells().map(function(cell){\n          if (cell.cell_type == 'code'){ cell.auto_highlight(); } }) ;\n  });\n});\n} catch (e) {};\n"
     },
     "metadata": {},
     "output_type": "display_data"
    }
   ],
   "source": [
    "from aes_hw import AES\n",
    "from pynq.overlays.base import BaseOverlay\n",
    "from pynq.lib import Pmod_OLED\n",
    "from pynq import Overlay\n",
    "import time"
   ]
  },
  {
   "cell_type": "code",
   "execution_count": 2,
   "id": "819d7bfa",
   "metadata": {},
   "outputs": [],
   "source": [
    "def pad_text(text):\n",
    "    \"\"\"Pad text to ensure it is 16 characters long.\"\"\"\n",
    "    return text.ljust(16, ' ')"
   ]
  },
  {
   "cell_type": "code",
   "execution_count": 3,
   "id": "706fbabc",
   "metadata": {},
   "outputs": [],
   "source": [
    "def oled_display(statement, overlay_path=\"base.bit\", pmod_port=\"PMODB\"):\n",
    "\n",
    "    # Load the base overlay\n",
    "    base = BaseOverlay(overlay_path)\n",
    "    \n",
    "    # Initialize the Pmod OLED\n",
    "    pmod_oled = Pmod_OLED(getattr(base, pmod_port))\n",
    "    \n",
    "    # Display the statement on the OLED\n",
    "    pmod_oled.clear()  # Clear the OLED screen\n",
    "    pmod_oled.write(str(statement))  # Write the statement to the OLED"
   ]
  },
  {
   "cell_type": "code",
   "execution_count": 4,
   "id": "003b9292",
   "metadata": {},
   "outputs": [
    {
     "name": "stdout",
     "output_type": "stream",
     "text": [
      "Enter a key (<=16 characters): sr\n",
      "Enter a plaintext message (<=16 characters): sr\n",
      "Original message (padded if needed): sr              \n"
     ]
    }
   ],
   "source": [
    "# Input the key from the user (<=16-character string)\n",
    "key_string = input(\"Enter a key (<=16 characters): \")\n",
    "key_string = pad_text(key_string)  # Pad key if it's shorter than 16 characters\n",
    "    \n",
    "# Convert the padded key string to a 16-byte integer\n",
    "master_key = int.from_bytes(key_string.encode('utf-8'), byteorder='big')\n",
    "aes = AES(master_key)\n",
    "\n",
    "# Input the plaintext message (<=16 characters string)\n",
    "original_message = input(\"Enter a plaintext message (<=16 characters): \")\n",
    "padded_message = pad_text(original_message)  # Pad message if it's shorter than 16 characters\n",
    "\n",
    "print(f\"Original message (padded if needed): {padded_message}\")"
   ]
  },
  {
   "cell_type": "code",
   "execution_count": null,
   "id": "ad44a0b3",
   "metadata": {},
   "outputs": [],
   "source": [
    "oled_display(f\"input message: \\n\\n{original_message}\")"
   ]
  },
  {
   "cell_type": "code",
   "execution_count": 5,
   "id": "81ecf57b",
   "metadata": {},
   "outputs": [],
   "source": [
    "overlay = Overlay(\"mix_imix.bit\")"
   ]
  },
  {
   "cell_type": "code",
   "execution_count": null,
   "id": "f08b75cc",
   "metadata": {
    "scrolled": true
   },
   "outputs": [
    {
     "name": "stdout",
     "output_type": "stream",
     "text": [
      "Entering __round_encrypt...\n",
      "Time taken for encryption: 0.007611275 seconds\n",
      "Encrypted output (hex): ae69f35902e74ac9d6a05e9d1ae3b75f\n",
      "Encrypted output (string): ®ióY\u0002çJÉÖ ^\u001aã·_\n"
     ]
    }
   ],
   "source": [
    "# Convert the padded plaintext string to a 16-byte integer\n",
    "plaintext = int.from_bytes(padded_message.encode('utf-8'), byteorder='big')\n",
    "#   start_time  \n",
    "start_time = time.time()\n",
    "# Encrypt the plaintext\n",
    "encrypted = aes.encrypt(plaintext)\n",
    "end_time = time.time()\n",
    "elapsed_time = end_time - start_time\n",
    "print(f\"Time taken for encryption with hw acceleration: {elapsed_time:.9f} seconds\")    \n",
    "# Convert the encrypted integer to bytes and print in hex format\n",
    "encrypted_bytes = encrypted.to_bytes(16, byteorder='big')\n",
    "encrypted_hex = encrypted_bytes.hex()\n",
    "    \n",
    "# Convert the encrypted bytes to a string (hex encoded) for visual representation\n",
    "encrypted_string = encrypted_bytes.decode('latin-1')\n",
    "    \n",
    "# Print the encrypted output in hex and string format\n",
    "print(f\"Encrypted output (hex): {encrypted_hex}\")\n",
    "print(f\"Encrypted output (string): {encrypted_string}\")\n",
    "    "
   ]
  },
  {
   "cell_type": "code",
   "execution_count": null,
   "id": "5798947b",
   "metadata": {},
   "outputs": [],
   "source": [
    "oled_display(f\"encryption done\\ncipher text: \\n{encrypted_string}\")"
   ]
  },
  {
   "cell_type": "code",
   "execution_count": null,
   "id": "f119d351",
   "metadata": {},
   "outputs": [],
   "source": [
    "overlay = Overlay(\"mix_imix.bit\")"
   ]
  },
  {
   "cell_type": "code",
   "execution_count": null,
   "id": "4c4697e8",
   "metadata": {},
   "outputs": [
    {
     "name": "stdout",
     "output_type": "stream",
     "text": [
      "Enter the key again for decryption: sr\n",
      "Time taken for decryption: 0.004275799 seconds\n",
      "Decrypted output: sr\n"
     ]
    }
   ],
   "source": [
    "# Ask the user to enter the key again for decryption\n",
    "reentered_key = input(\"Enter the key again for decryption: \")\n",
    "reentered_key = pad_text(reentered_key)  # Pad reentered key if it's shorter than 16 characters\n",
    "    \n",
    "# Check if the reentered key matches the original key\n",
    "if reentered_key != key_string:\n",
    "    print(\"Decryption failed: Incorrect key.\")\n",
    "    oled_display(f\"Decrypt failed\\nIncorrect Key\")\n",
    "else:\n",
    "    # Convert the reentered key to a 16-byte integer for decryption\n",
    "    master_key_for_decryption = int.from_bytes(reentered_key.encode('utf-8'), byteorder='big')\n",
    "    aes_for_decryption = AES(master_key_for_decryption)\n",
    "    \n",
    "    start_time = time.time()\n",
    "    # Decrypt the ciphertext\n",
    "    decrypted = aes_for_decryption.decrypt(encrypted)\n",
    "    end_time = time.time()\n",
    "    elapsed_time = end_time - start_time\n",
    "    print(f\"Time taken for decryption with hw acceleration: {elapsed_time:.9f} seconds\")\n",
    "    \n",
    "    # Convert the decrypted integer back to a string (16-character)\n",
    "    decrypted_message = decrypted.to_bytes(16, byteorder='big').decode('utf-8')\n",
    "    \n",
    "    # Unpad the decrypted message (strip any spaces added during padding)\n",
    "    decrypted_message = decrypted_message.rstrip()\n",
    "\n",
    "    # Print the decrypted message\n",
    "    print(f\"Decrypted output: {decrypted_message}\")\n",
    "    oled_display(f\"decryption done\\nplain text: \\n{decrypted_message}\")"
   ]
  },
  {
   "cell_type": "code",
   "execution_count": null,
   "id": "988f3e48",
   "metadata": {},
   "outputs": [],
   "source": []
  }
 ],
 "metadata": {
  "kernelspec": {
   "display_name": "Python 3 (ipykernel)",
   "language": "python",
   "name": "python3"
  },
  "language_info": {
   "codemirror_mode": {
    "name": "ipython",
    "version": 3
   },
   "file_extension": ".py",
   "mimetype": "text/x-python",
   "name": "python",
   "nbconvert_exporter": "python",
   "pygments_lexer": "ipython3",
   "version": "3.10.4"
  }
 },
 "nbformat": 4,
 "nbformat_minor": 5
}
